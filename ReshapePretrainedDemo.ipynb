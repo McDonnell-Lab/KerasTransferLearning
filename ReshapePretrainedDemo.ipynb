{
 "cells": [
  {
   "cell_type": "code",
   "execution_count": null,
   "metadata": {
    "collapsed": true
   },
   "outputs": [],
   "source": [
    "import os\n",
    "os.environ[\"CUDA_DEVICE_ORDER\"] = \"PCI_BUS_ID\"\n",
    "os.environ[\"CUDA_VISIBLE_DEVICES\"] = \"0\" \n",
    "\n",
    "import numpy as np\n",
    "from keras.models import Model\n",
    "from TransferLearningUtils import ChangeModelShape,MyPreprocessInput"
   ]
  },
  {
   "cell_type": "code",
   "execution_count": null,
   "metadata": {
    "collapsed": true
   },
   "outputs": [],
   "source": [
    "#typical parameters\n",
    "NumClasses = 2\n",
    "InputShape = 224\n",
    "BatchSize = 128\n",
    "NumInputChannels=1\n",
    "wd = 1e-5\n",
    "FirstLayerInit = 1\n",
    "Pretrained=True"
   ]
  },
  {
   "cell_type": "code",
   "execution_count": null,
   "metadata": {},
   "outputs": [],
   "source": [
    "#choose a pretrained model\n",
    "WhichModel = 0\n",
    "#0 is InceptionV3\n",
    "#1 is InceptionResNetV2\n",
    "#2 is MobileNet\n",
    "#3 is Xception\n",
    "#4 is DenseNet201\n",
    "#5 is ResNeXt50\n",
    "\n",
    "if WhichModel == 0:\n",
    "    mode='tf'\n",
    "    from keras.applications.inception_v3 import InceptionV3\n",
    "    ModelName = InceptionV3\n",
    "elif WhichModel == 1:\n",
    "    mode='tf'\n",
    "    from keras.applications.inception_resnet_v2 import InceptionResNetV2\n",
    "    ModelName = InceptionResNetV2\n",
    "elif WhichModel == 2:\n",
    "    mode='tf'\n",
    "    from keras.applications.mobilenet import MobileNet\n",
    "    ModelName = MobileNet\n",
    "elif WhichModel == 3:\n",
    "    mode='tf'\n",
    "    from keras.applications.xception import Xception\n",
    "    ModelName = Xception\n",
    "elif WhichModel == 4:\n",
    "    mode='torch'\n",
    "    from keras.applications.densenet import DenseNet201\n",
    "    ModelName = DenseNet201\n",
    "elif WhichModel == 5:\n",
    "    #need to develop these in a newer version of keras/tensorflow\n",
    "    print(\"to do\")\n",
    "\n",
    "#test model creation works\n",
    "MyModel = ChangeModelShape(ModelName = ModelName,\n",
    "                                       NumInputChannels=NumInputChannels,\n",
    "                                       Pretrained=Pretrained,\n",
    "                                       FirstLayerInit = FirstLayerInit, #is is average over RGB channels of pretrained first layer weights\n",
    "                                       NumClasses=NumClasses)\n",
    "#test preprocessing works\n",
    "X_rand = np.random.rand(BatchSize,InputShape,InputShape,NumInputChannels)\n",
    "X_rand = MyPreprocessInput(X_rand,'channels_last',mode)"
   ]
  },
  {
   "cell_type": "code",
   "execution_count": null,
   "metadata": {},
   "outputs": [],
   "source": [
    "#test compilation worls\n",
    "from keras.optimizers import SGD\n",
    "MyModel.compile(loss='categorical_crossentropy',\n",
    "              optimizer=SGD(lr=0.001,decay=0,momentum=0.9,nesterov=False),\n",
    "              metrics=['accuracy']\n",
    "             )\n",
    "MyModel.summary()"
   ]
  },
  {
   "cell_type": "code",
   "execution_count": null,
   "metadata": {
    "collapsed": true
   },
   "outputs": [],
   "source": []
  }
 ],
 "metadata": {
  "kernelspec": {
   "display_name": "Python 3",
   "language": "python",
   "name": "python3"
  },
  "language_info": {
   "codemirror_mode": {
    "name": "ipython",
    "version": 3
   },
   "file_extension": ".py",
   "mimetype": "text/x-python",
   "name": "python",
   "nbconvert_exporter": "python",
   "pygments_lexer": "ipython3",
   "version": "3.6.3"
  }
 },
 "nbformat": 4,
 "nbformat_minor": 2
}
